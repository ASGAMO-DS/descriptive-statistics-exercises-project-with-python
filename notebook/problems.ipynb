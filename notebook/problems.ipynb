{
    "cells": [
        {
            "cell_type": "markdown",
            "id": "ac622319",
            "metadata": {},
            "source": [
                "# Descriptive statistics problems"
            ]
        },
        {
            "cell_type": "markdown",
            "id": "5e0ab0d5",
            "metadata": {},
            "source": [
                "### Exercise 1\n",
                "\n",
                "We will use NumPy to obtain information to describe statistically.\n",
                "\n",
                "- Generate an array of 100 elements following a normal distribution.\n",
                "- Generate an array of 100 elements following a chi-square distribution with 3 degrees of freedom.\n",
                "- Calculate the main metrics and statistical measures that best describe the two vectors."
            ]
        },
        {
            "cell_type": "code",
            "execution_count": 30,
            "id": "34720ab6",
            "metadata": {},
            "outputs": [],
            "source": [
                "# TODO\n",
                "import numpy as np\n",
                "\n",
                "Distribución_normal = np.random.normal(size=100)\n",
                "\n",
                "Distribución_chi2= np.random.chisquare(3,100)"
            ]
        },
        {
            "cell_type": "code",
            "execution_count": 32,
            "id": "df4b0ea8",
            "metadata": {},
            "outputs": [
                {
                    "data": {
                        "text/plain": [
                            "array([-0.06925261, -1.35213198,  0.74053431,  0.91006712,  0.80570628,\n",
                            "       -0.64186966, -0.23911014, -0.71781901,  0.4765145 , -0.01382432,\n",
                            "       -1.21394895,  0.14928446, -0.63743368,  0.75856611,  0.69535827,\n",
                            "        1.2587561 , -0.74352498,  1.26514531, -0.30026509, -1.67057139,\n",
                            "       -0.89954048,  0.44962392,  0.39872409,  0.49170541,  0.02685191,\n",
                            "       -0.34875755, -0.15048327, -0.98742556,  0.01895642, -1.32606475,\n",
                            "       -1.3245919 ,  0.30594741, -0.7350647 , -0.67367784, -0.44866206,\n",
                            "       -2.08146475, -0.90120439,  1.05163146, -0.99570592, -1.53771984,\n",
                            "       -0.46567585, -0.93821951, -0.273718  , -2.38766716, -1.31090365,\n",
                            "        1.89442454,  0.95110378,  1.07495232,  0.27176955, -0.09812451,\n",
                            "        0.3328687 ,  1.80074319,  1.77926852, -1.4024868 ,  2.48231273,\n",
                            "        0.0620776 ,  2.76807172, -1.90675433, -1.29070897,  1.16668863,\n",
                            "       -0.27326593,  0.7873328 ,  1.20630827,  0.73629164,  0.45326848,\n",
                            "        0.55170153,  1.51160338, -1.21446026, -0.10104758,  0.01850093,\n",
                            "       -1.70120969, -0.87608724, -0.21220883,  1.1238829 ,  1.4069699 ,\n",
                            "       -0.05953799,  0.00419956,  0.13887958,  2.26941739,  0.32210677,\n",
                            "       -2.01648719, -0.2241733 , -1.18173168, -0.54256535, -0.35797201,\n",
                            "       -0.02445868,  0.99041798, -0.45235153, -0.22507547, -0.6993101 ,\n",
                            "        0.30598663,  1.06033918, -0.41613517, -1.16094475, -0.48520683,\n",
                            "       -0.46436459, -1.00451087,  0.63930439, -0.2805375 , -0.27081738])"
                        ]
                    },
                    "execution_count": 32,
                    "metadata": {},
                    "output_type": "execute_result"
                }
            ],
            "source": [
                "Distribución_normal"
            ]
        },
        {
            "cell_type": "code",
            "execution_count": 33,
            "id": "cf3ae6a9",
            "metadata": {},
            "outputs": [
                {
                    "data": {
                        "text/plain": [
                            "array([ 4.24546831,  4.44037474,  3.28233919,  0.783669  ,  0.7442846 ,\n",
                            "        1.02065261,  4.0577402 ,  2.63757986,  0.30618718,  2.7067443 ,\n",
                            "        2.17172206,  1.31192801,  1.11105725,  3.15983892,  5.78201129,\n",
                            "        1.51629185,  2.27173556,  7.41071851,  1.87578497,  4.80038526,\n",
                            "        3.3329524 ,  3.94262997,  0.40475072,  1.12086179,  0.60539222,\n",
                            "        4.123974  ,  2.68848763,  2.23974048,  3.10852895,  1.34401768,\n",
                            "        0.48342198,  4.82689542,  3.98272217,  0.87327544,  0.12962566,\n",
                            "        5.40468657,  0.99161238,  0.6588099 ,  2.64527335,  0.30360377,\n",
                            "        1.70262541,  3.62194218,  0.13901434,  2.51428824,  1.74488787,\n",
                            "        0.27117211,  3.80755237,  0.87769133,  2.23196553,  1.26261256,\n",
                            "        3.17772163,  3.91309059,  1.92815634,  3.61721839,  2.81444209,\n",
                            "        0.53157088,  1.18928088,  4.75598314,  0.49478584,  0.8401741 ,\n",
                            "        0.75614381,  1.06995104,  1.85931128,  1.73518669,  1.6993127 ,\n",
                            "        0.41620781,  0.12038395,  1.01157177,  5.52065067,  4.98160036,\n",
                            "        7.81774783,  1.20104348,  4.09921894,  4.23386761,  5.01318414,\n",
                            "       13.84741062,  4.24744904,  5.25888757,  1.6660098 ,  1.01988039,\n",
                            "        4.55548215,  3.17487133,  1.47304721,  1.00214411,  7.54734949,\n",
                            "        3.61731235,  0.56398169,  1.63709092,  1.24366483,  3.7508206 ,\n",
                            "        3.13056841,  3.56447264,  1.4098995 ,  0.93959959,  0.2865329 ,\n",
                            "        4.79449751,  3.05256931,  0.44354503,  0.5309563 ,  2.77304144])"
                        ]
                    },
                    "execution_count": 33,
                    "metadata": {},
                    "output_type": "execute_result"
                }
            ],
            "source": [
                "Distribución_chi2"
            ]
        },
        {
            "cell_type": "code",
            "execution_count": 17,
            "id": "ac379649",
            "metadata": {},
            "outputs": [
                {
                    "name": "stdout",
                    "output_type": "stream",
                    "text": [
                        "media normal:-0.10361552705746711\n",
                        "media chi2:3.0380954975317356\n",
                        "mediana normal:-0.15930222527123417\n",
                        "mediana chi2:2.6912285590407823\n",
                        "moda normal:1.0124131711790123\n",
                        "moda chi2:1.22436792974844\n"
                    ]
                }
            ],
            "source": [
                "#Calculo de medidas de tendencia central\n",
                "\n",
                "import statistics as stats\n",
                "\n",
                "print(f'media normal:{stats.mean(Distribución_normal)}')\n",
                "print(f'media chi2:{stats.mean(Distribución_chi2)}')\n",
                "print(f'mediana normal:{stats.median(Distribución_normal)}')\n",
                "print(f'mediana chi2:{stats.median(Distribución_chi2)}')\n",
                "print(f'moda normal:{stats.mode(Distribución_normal)}')\n",
                "print(f'moda chi2:{stats.mode(Distribución_chi2)}')"
            ]
        },
        {
            "cell_type": "code",
            "execution_count": 20,
            "id": "b78ce92c",
            "metadata": {},
            "outputs": [
                {
                    "name": "stdout",
                    "output_type": "stream",
                    "text": [
                        "Rango normal:4.163713864735814\n",
                        "Rango chi2:10.735780010972103\n"
                    ]
                }
            ],
            "source": [
                "Rango_normal = max(Distribución_normal)-min(Distribución_normal)\n",
                "Rango_Chi2 = max(Distribución_chi2)-min(Distribución_chi2)\n",
                "print(f'Rango normal:{Rango_normal}')\n",
                "print(f'Rango chi2:{Rango_Chi2}')"
            ]
        },
        {
            "cell_type": "code",
            "execution_count": 21,
            "id": "fc56b91c",
            "metadata": {},
            "outputs": [
                {
                    "name": "stdout",
                    "output_type": "stream",
                    "text": [
                        "Varianza normal:1.0116847910952258\n",
                        "Varianza chi2:4.733754644254239\n",
                        "Desviación estandar normal:1.005825427743416\n",
                        "Desviación estandar chi2:2.175719339495386\n"
                    ]
                }
            ],
            "source": [
                "print(f'Varianza normal:{stats.variance(Distribución_normal)}')\n",
                "print(f'Varianza chi2:{stats.variance(Distribución_chi2)}')\n",
                "\n",
                "print(f'Desviación estandar normal:{stats.stdev(Distribución_normal)}')\n",
                "print(f'Desviación estandar chi2:{stats.stdev(Distribución_chi2)}')"
            ]
        },
        {
            "cell_type": "code",
            "execution_count": 26,
            "id": "f3d509d4",
            "metadata": {},
            "outputs": [
                {
                    "name": "stdout",
                    "output_type": "stream",
                    "text": [
                        "Simetría normal:0.3639395567208798\n",
                        "Simetría chi2:1.1578288811898616\n",
                        "Kurtosis normal:-0.4842371825040246\n",
                        "Kurtosis chi2:1.461089216389869\n"
                    ]
                }
            ],
            "source": [
                "from scipy.stats import skew\n",
                "from scipy.stats import kurtosis\n",
                "\n",
                "print(f'Simetría normal:{skew(Distribución_normal)}')\n",
                "print(f'Simetría chi2:{skew(Distribución_chi2)}')\n",
                "\n",
                "print(f'Kurtosis normal:{kurtosis(Distribución_normal)}')\n",
                "print(f'Kurtosis chi2:{kurtosis(Distribución_chi2)}')\n"
            ]
        },
        {
            "cell_type": "markdown",
            "id": "46c70c3d",
            "metadata": {},
            "source": [
                "### Exercise 2\n",
                "\n",
                "Write a Python program to calculate the standard deviation of the following data:\n",
                "\n",
                "```py\n",
                "data = [4, 2, 5, 8, 6]\n",
                "```"
            ]
        },
        {
            "cell_type": "code",
            "execution_count": 38,
            "id": "d590308e",
            "metadata": {},
            "outputs": [
                {
                    "name": "stdout",
                    "output_type": "stream",
                    "text": [
                        "Datos para calcular: [4, 2, 5, 8, 6]\n",
                        "desviación estandar: 2.23606797749979\n",
                        "Desviación estandar: 2.23606797749979\n"
                    ]
                }
            ],
            "source": [
                "# TODO\n",
                "import math\n",
                "def media(lista):\n",
                "    suma = sum(lista)\n",
                "    promedio = suma/len(lista)\n",
                "    return promedio\n",
                "\n",
                "Datos= [4,2,5,8,6]\n",
                "\n",
                "def desviacionestandar(lista):\n",
                "    promedio = media(lista)\n",
                "    sumatoria = 0\n",
                "    for elemento in lista:\n",
                "        sumatoria += (elemento-promedio)**2\n",
                "    prom_distancias= sumatoria/(len(lista)-1)\n",
                "    de = math.sqrt(prom_distancias)\n",
                "    return de\n",
                "    \n",
                "print(f'Datos para calcular: {Datos}')\n",
                "print(f'desviación estandar: {desviacionestandar(Datos)}')\n",
                "\n"
            ]
        }
    ],
    "metadata": {
        "kernelspec": {
            "display_name": "Python 3",
            "language": "python",
            "name": "python3"
        },
        "language_info": {
            "codemirror_mode": {
                "name": "ipython",
                "version": 3
            },
            "file_extension": ".py",
            "mimetype": "text/x-python",
            "name": "python",
            "nbconvert_exporter": "python",
            "pygments_lexer": "ipython3",
            "version": "3.11.4"
        }
    },
    "nbformat": 4,
    "nbformat_minor": 5
}
